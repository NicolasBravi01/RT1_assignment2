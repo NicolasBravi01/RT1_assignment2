{
 "cells": [
  {
   "cell_type": "code",
   "execution_count": 1,
   "id": "ebc168f8",
   "metadata": {},
   "outputs": [],
   "source": [
    "#<node pkg=\"assignment_2_2023\" type=\"action_client.py\" name=\"action_client\" launch-prefix=\"xterm -e\"/>\n",
    "%matplotlib widget\n",
    "import rospy\n",
    "from geometry_msgs.msg import Point, Pose, Twist\n",
    "from sensor_msgs.msg import LaserScan\n",
    "from nav_msgs.msg import Odometry\n",
    "import math\n",
    "import actionlib\n",
    "import assignment_2_2023.msg\n",
    "from assignment_2_2023.msg import Status\n",
    "from tf import transformations\n",
    "from std_srvs.srv import *\n",
    "import time\n",
    "from actionlib_msgs.msg import GoalStatus\n",
    "import ipywidgets as widgets\n",
    "\n",
    "import matplotlib.pyplot as plt\n",
    "import tf\n",
    "from tf.transformations import quaternion_matrix\n",
    "import numpy as np\n",
    "from matplotlib.animation import FuncAnimation"
   ]
  },
  {
   "cell_type": "code",
   "execution_count": 2,
   "id": "4a257a63",
   "metadata": {},
   "outputs": [],
   "source": [
    "#global variables for graphics\n",
    "global sendGoal, goalCancelled\n",
    "global nReachedGoals, nSentGoals, nCancelledGoals\n",
    "global x_goal, y_goal\n",
    "sendGoal, goalCancelled = False, False\n",
    "nReachedGoals, nSentGoals, nCancelledGoals = 0, 0, 0\n",
    "x_goal,y_goal = 0.0, 0.0\n",
    "\n",
    "\n",
    "\n",
    "# return true if the goal has been reached by the robot, false otherwise\n",
    "def goalReached():\n",
    "    \"\"\"\n",
    "    Function which returns true if the goal has been reached by the robot, false otherwise\n",
    "    \"\"\"\n",
    "    return client.get_state() == actionlib.GoalStatus.SUCCEEDED\n",
    "\n",
    "\n",
    "\n",
    "# Callback of subscriber '/odom', custom message 'Status' is used as a publisher\n",
    "def callback(msg):\n",
    "    \"\"\"\n",
    "    Callback function of subscriber '/odom'\n",
    "\n",
    "    Args:\n",
    "        msg: position and velocity of the robot\n",
    "    \"\"\"\n",
    "    \n",
    "    status = Status()\n",
    "    status.x = msg.pose.pose.position.x\n",
    "    status.y = msg.pose.pose.position.y\n",
    "    status.v_x = msg.twist.twist.linear.x\n",
    "    status.v_z = msg.twist.twist.angular.z\n",
    "    pub.publish(status)\n",
    "    "
   ]
  },
  {
   "cell_type": "code",
   "execution_count": null,
   "id": "b28d4a7b",
   "metadata": {},
   "outputs": [],
   "source": []
  },
  {
   "cell_type": "code",
   "execution_count": 3,
   "id": "90768ad9",
   "metadata": {},
   "outputs": [
    {
     "data": {
      "text/plain": [
       "True"
      ]
     },
     "execution_count": 3,
     "metadata": {},
     "output_type": "execute_result"
    }
   ],
   "source": [
    "\"\"\"\n",
    "This is the main code of the action client.\n",
    "\"\"\"\n",
    "# initialize node action_client\n",
    "rospy.init_node('action_client')\n",
    "\n",
    "# define publisher '/status/\n",
    "global pub\n",
    "pub = rospy.Publisher(\"/status\", Status, queue_size=1)\n",
    "\n",
    "# subscriber odom\n",
    "rospy.Subscriber(\"/odom\", Odometry, callback)\n",
    "\n",
    "\n",
    "\n",
    "msg = \"start\"\n",
    "\n",
    "global client    \n",
    "client = actionlib.SimpleActionClient('/reaching_goal', assignment_2_2023.msg.PlanningAction)\n",
    "client.wait_for_server()\n",
    "\n"
   ]
  },
  {
   "cell_type": "code",
   "execution_count": null,
   "id": "785d1a8c",
   "metadata": {},
   "outputs": [],
   "source": []
  },
  {
   "cell_type": "code",
   "execution_count": 4,
   "id": "19add31a",
   "metadata": {},
   "outputs": [],
   "source": [
    "# Analizes the coordinates and sends the goal\n",
    "def sendGoalEvent(x,y):\n",
    "\n",
    "    global sendGoal, nSentGoals\n",
    "    global x_goal, y_goal\n",
    "    \n",
    "    msg = \"\"\n",
    "    limit = 10\n",
    "    \n",
    "    # x and y must be in the interval [-limit, limit], otherwise an exception is generated\n",
    "    if x<-limit or x>limit or y<-limit or y>limit:\n",
    "        msg = f\"Insert values between [{-limit}, {limit}]\"\n",
    "        \n",
    "    x_goal, y_goal = x,y\n",
    "\n",
    "\n",
    "    # instance of the goal\n",
    "    goal = assignment_2_2023.msg.PlanningGoal()\n",
    "    goal.target_pose.pose.position.x = x\n",
    "    goal.target_pose.pose.position.y = y\n",
    "\n",
    "    # set x,y as ROS parameters\n",
    "    rospy.set_param('des_pos_x', x)\n",
    "    rospy.set_param('des_pos_y', y)\n",
    "    \n",
    "    \n",
    "    sendGoal = True\n",
    "    nSentGoals = nSentGoals+1\n",
    "    \n",
    "    # send the goal\n",
    "    client.send_goal(goal)\n",
    "    msg = f\"Goal ({x}, {y}) sent!\"\n",
    "    return msg\n",
    "\n",
    "\n",
    "\n",
    "\n",
    "# Analizes the coordinates and sends the goal\n",
    "def cancelGoalEvent():\n",
    "    global nCancelledGoals    \n",
    "    global goalCancelled\n",
    "\n",
    "    msg = \"\"\n",
    "    # if the goal is reached, you can't cancel it\n",
    "    if goalReached():\n",
    "        msg = \"Goal already reached, you cannot cancel it\"\n",
    "    else:\n",
    "        # cancel the goal\n",
    "        try:\n",
    "            client.cancel_goal()\n",
    "            msg = \"Goal cancelled\"\n",
    "            \n",
    "            goalCancelled = True\n",
    "            nCancelledGoals = nCancelledGoals+1\n",
    "    \n",
    "        except Exception as e:\n",
    "            msg = str(e)\n",
    "    return msg"
   ]
  },
  {
   "cell_type": "code",
   "execution_count": 5,
   "id": "35d2427f",
   "metadata": {},
   "outputs": [],
   "source": [
    "#class to visualize the data on the graphics\n",
    "class Visualiser:\n",
    "    global nReachedGoals, nSentGoals, nCancelledGoals    \n",
    "    global x_goal, y_goal\n",
    "\n",
    "    def __init__(self):\n",
    "        self.fig, self.ax = plt.subplots(2, 1, figsize=(7,12))\n",
    "        self.ln, = self.ax[0].plot([], [], 'ro', markersize=3)\n",
    "        self.x_data, self.y_data = [], []\n",
    "        self.new_target = False\n",
    "        sendGoal = False        \n",
    "\n",
    "        self.variables = np.array([\"Reached Goals\", \"Sent Goals\", \"Cancelled Goals\"])\n",
    "        self.bars = self.ax[1].bar(self.variables, [0, 0, 0])\n",
    "        self.ax[1].set_ylim(0, 10)\n",
    "\n",
    "    def plot_init(self):\n",
    "        self.ax[0].set_xlim(-10, 10)\n",
    "        self.ax[0].set_ylim(-10, 10)\n",
    "        return self.ln, self.bars\n",
    "\n",
    "    def odom_callback(self, msg):\n",
    "        self.y_data.append(msg.pose.pose.position.y)\n",
    "        self.x_data.append(msg.pose.pose.position.x)     \n",
    "        \n",
    "        \n",
    "        #After 5000 it removes the first element of the position lists\n",
    "        if len(self.y_data) > 5000:# Limiting the length of data for efficiency\n",
    "            self.y_data.pop(0)\n",
    "            self.x_data.pop(0)\n",
    "\n",
    "\n",
    "    def update_plot(self, frame):  \n",
    "        global sendGoal, nReachedGoals\n",
    "\n",
    "        self.ln.set_data(self.x_data, self.y_data)\n",
    "        \n",
    "        if sendGoal:        \n",
    "            self.new_target = True\n",
    "            \n",
    "            if goalReached():        \n",
    "                sendGoal = False\n",
    "                nReachedGoals = nReachedGoals+1\n",
    "        \n",
    "        #it draws the target\n",
    "        if self.new_target:\n",
    "            self.ax[0].scatter(x_goal, y_goal, marker='+', color='blue', s=50)  # Draw the blue cross marker at the position (X_pos, Y_pos)\n",
    "            self.new_target = False\n",
    "            \n",
    "        # Update bar plot setting the heights\n",
    "        self.bars[0].set_height(nReachedGoals)\n",
    "        self.bars[1].set_height(nSentGoals)\n",
    "        self.bars[2].set_height(nCancelledGoals)\n",
    "\n"
   ]
  },
  {
   "cell_type": "code",
   "execution_count": 6,
   "id": "0905165e",
   "metadata": {},
   "outputs": [
    {
     "data": {
      "application/vnd.jupyter.widget-view+json": {
       "model_id": "fdf872e354f04b4995923e64714e9d66",
       "version_major": 2,
       "version_minor": 0
      },
      "text/plain": [
       "BoundedFloatText(value=0.0, description='X:', max=10.0, min=-10.0, step=0.5)"
      ]
     },
     "metadata": {},
     "output_type": "display_data"
    },
    {
     "data": {
      "application/vnd.jupyter.widget-view+json": {
       "model_id": "0b4a22bdc7334699a8b35136ad227989",
       "version_major": 2,
       "version_minor": 0
      },
      "text/plain": [
       "BoundedFloatText(value=0.0, description='Y:', max=10.0, min=-10.0, step=0.5)"
      ]
     },
     "metadata": {},
     "output_type": "display_data"
    },
    {
     "data": {
      "application/vnd.jupyter.widget-view+json": {
       "model_id": "077cb6116fdf4fd3801db0b8fd704f75",
       "version_major": 2,
       "version_minor": 0
      },
      "text/plain": [
       "Button(description='Send Goal!', style=ButtonStyle())"
      ]
     },
     "metadata": {},
     "output_type": "display_data"
    },
    {
     "data": {
      "application/vnd.jupyter.widget-view+json": {
       "model_id": "44f4d872eb334c428d3c6dc5c7cca669",
       "version_major": 2,
       "version_minor": 0
      },
      "text/plain": [
       "Output()"
      ]
     },
     "metadata": {},
     "output_type": "display_data"
    },
    {
     "data": {
      "application/vnd.jupyter.widget-view+json": {
       "model_id": "feae1ecc93264f8985fc9d809e92586c",
       "version_major": 2,
       "version_minor": 0
      },
      "text/plain": [
       "Button(description='Cancel Goal!', style=ButtonStyle())"
      ]
     },
     "metadata": {},
     "output_type": "display_data"
    },
    {
     "data": {
      "application/vnd.jupyter.widget-view+json": {
       "model_id": "9aa8fd3017d941d0a3955ec9d704a352",
       "version_major": 2,
       "version_minor": 0
      },
      "text/plain": [
       "Output()"
      ]
     },
     "metadata": {},
     "output_type": "display_data"
    },
    {
     "data": {
      "application/vnd.jupyter.widget-view+json": {
       "model_id": "2dc1ff1188d44fd281116d6a3a35d1ac",
       "version_major": 2,
       "version_minor": 0
      },
      "text/plain": [
       "Text(value='start', disabled=True)"
      ]
     },
     "metadata": {},
     "output_type": "display_data"
    },
    {
     "data": {
      "application/vnd.jupyter.widget-view+json": {
       "model_id": "6c4da82e3ef04900934e26742fd1ce22",
       "version_major": 2,
       "version_minor": 0
      },
      "text/plain": [
       "Canvas(toolbar=Toolbar(toolitems=[('Home', 'Reset original view', 'home', 'home'), ('Back', 'Back to previous …"
      ]
     },
     "metadata": {},
     "output_type": "display_data"
    },
    {
     "name": "stdout",
     "output_type": "stream",
     "text": [
      "Goal (0.0, 0.0) sent!\n"
     ]
    }
   ],
   "source": [
    "\n",
    "#numerical box, X cordinate goal\n",
    "x_wid = widgets.BoundedFloatText(\n",
    "    min=-10.0,\n",
    "    max=10.0,\n",
    "    step=0.5,\n",
    "    description='X:',\n",
    "    disabled=False)\n",
    "\n",
    "#numerical box, Y cordinate goal\n",
    "y_wid = widgets.BoundedFloatText(\n",
    "    min=-10.0,\n",
    "    max=10.0,\n",
    "    step=0.5,\n",
    "    description='Y:',\n",
    "    disabled=False)\n",
    "\n",
    "display(x_wid,y_wid)\n",
    "\n",
    "\n",
    "#Button send goal\n",
    "sendGoal_button = widgets.Button(description=\"Send Goal!\") \n",
    "output_sendGoal = widgets.Output()\n",
    "display(sendGoal_button, output_sendGoal)\n",
    "\n",
    "\n",
    "#Button cancel goal\n",
    "cancelGoal_button = widgets.Button(description=\"Cancel Goal!\") \n",
    "output_cancelGoal = widgets.Output()\n",
    "display(cancelGoal_button, output_cancelGoal)\n",
    "\n",
    "\n",
    "\n",
    "#TextBox, \"disbled\" = false se voglio scrivere sopra\n",
    "textBox = widgets.Text(value=msg, disabled=True)\n",
    "display(textBox)\n",
    "\n",
    "\n",
    "\n",
    "\n",
    "#handle changes, the observe method of the widget can be used to register a callback.\n",
    "def sendGoal_button_clicked(b):\n",
    "    msg = \"\"\n",
    "    global goalCancelled\n",
    "    with output_sendGoal:\n",
    "        try:\n",
    "            x = x_wid.value\n",
    "            y = y_wid.value\n",
    "            \n",
    "            msg = sendGoalEvent(x,y)\n",
    "            goalCancelled = False\n",
    "                            \n",
    "        except Exception as e:\n",
    "            msg = \"Invalid Input\"\n",
    "        \n",
    "    textBox.value = msg        \n",
    "    print(msg)\n",
    "        \n",
    "    \n",
    "\n",
    "\n",
    "\n",
    "#handle changes, the observe method of the widget can be used to register a callback.\n",
    "def cancelGoal_button_clicked(b):\n",
    "    msg = \"\"\n",
    "    global goalCancelled\n",
    "    with output_cancelGoal:\n",
    "        if(goalCancelled == False):\n",
    "            msg = cancelGoalEvent()\n",
    "            \n",
    "            goalCancelled = True\n",
    "        else:\n",
    "            msg = \"Goal already cancelled\"\n",
    "        \n",
    "    textBox.value = msg\n",
    "    print(msg)\n",
    "    \n",
    "\n",
    "sendGoal_button.on_click(sendGoal_button_clicked)\n",
    "cancelGoal_button.on_click(cancelGoal_button_clicked)\n",
    "\n",
    "    \n",
    "vis = Visualiser()\n",
    "sub = rospy.Subscriber('/odom', Odometry, vis.odom_callback)\n",
    "ani = FuncAnimation(vis.fig, vis.update_plot, init_func=vis.plot_init, blit = True)\n",
    "plt.show(block=True)"
   ]
  },
  {
   "cell_type": "code",
   "execution_count": null,
   "id": "39a9e45a",
   "metadata": {},
   "outputs": [],
   "source": []
  },
  {
   "cell_type": "code",
   "execution_count": null,
   "id": "6b69d19a",
   "metadata": {
    "scrolled": true
   },
   "outputs": [],
   "source": [
    "\n",
    "    \n",
    "\n"
   ]
  },
  {
   "cell_type": "code",
   "execution_count": null,
   "id": "f26aeec2",
   "metadata": {},
   "outputs": [],
   "source": []
  },
  {
   "cell_type": "code",
   "execution_count": null,
   "id": "c45eba24",
   "metadata": {},
   "outputs": [],
   "source": [
    "\n"
   ]
  },
  {
   "cell_type": "code",
   "execution_count": null,
   "id": "502eb3cf",
   "metadata": {},
   "outputs": [],
   "source": []
  },
  {
   "cell_type": "code",
   "execution_count": null,
   "id": "9e6bc6ae",
   "metadata": {},
   "outputs": [],
   "source": []
  },
  {
   "cell_type": "code",
   "execution_count": null,
   "id": "b7548c03",
   "metadata": {},
   "outputs": [],
   "source": []
  },
  {
   "cell_type": "code",
   "execution_count": null,
   "id": "748157d7",
   "metadata": {},
   "outputs": [],
   "source": []
  },
  {
   "cell_type": "code",
   "execution_count": null,
   "id": "17221ff9",
   "metadata": {},
   "outputs": [],
   "source": []
  },
  {
   "cell_type": "code",
   "execution_count": null,
   "id": "8f30952c",
   "metadata": {},
   "outputs": [],
   "source": []
  },
  {
   "cell_type": "code",
   "execution_count": null,
   "id": "9920c108",
   "metadata": {},
   "outputs": [],
   "source": []
  },
  {
   "cell_type": "code",
   "execution_count": null,
   "id": "6be80d8b",
   "metadata": {},
   "outputs": [],
   "source": []
  },
  {
   "cell_type": "code",
   "execution_count": null,
   "id": "8fda3c48",
   "metadata": {},
   "outputs": [],
   "source": []
  },
  {
   "cell_type": "code",
   "execution_count": null,
   "id": "498c5a07",
   "metadata": {},
   "outputs": [],
   "source": []
  },
  {
   "cell_type": "code",
   "execution_count": null,
   "id": "6d287e61",
   "metadata": {},
   "outputs": [],
   "source": []
  },
  {
   "cell_type": "code",
   "execution_count": null,
   "id": "1c78d15f",
   "metadata": {},
   "outputs": [],
   "source": []
  },
  {
   "cell_type": "code",
   "execution_count": null,
   "id": "ceed78d2",
   "metadata": {},
   "outputs": [],
   "source": []
  },
  {
   "cell_type": "code",
   "execution_count": null,
   "id": "8a491397",
   "metadata": {},
   "outputs": [],
   "source": []
  },
  {
   "cell_type": "code",
   "execution_count": null,
   "id": "73dd1799",
   "metadata": {},
   "outputs": [],
   "source": []
  },
  {
   "cell_type": "code",
   "execution_count": null,
   "id": "9038f272",
   "metadata": {},
   "outputs": [],
   "source": []
  },
  {
   "cell_type": "code",
   "execution_count": null,
   "id": "15fbaa8f",
   "metadata": {},
   "outputs": [],
   "source": []
  },
  {
   "cell_type": "code",
   "execution_count": null,
   "id": "9428d168",
   "metadata": {},
   "outputs": [],
   "source": []
  }
 ],
 "metadata": {
  "kernelspec": {
   "display_name": "Python 3 (ipykernel)",
   "language": "python",
   "name": "python3"
  },
  "language_info": {
   "codemirror_mode": {
    "name": "ipython",
    "version": 3
   },
   "file_extension": ".py",
   "mimetype": "text/x-python",
   "name": "python",
   "nbconvert_exporter": "python",
   "pygments_lexer": "ipython3",
   "version": "3.8.5"
  }
 },
 "nbformat": 4,
 "nbformat_minor": 5
}
